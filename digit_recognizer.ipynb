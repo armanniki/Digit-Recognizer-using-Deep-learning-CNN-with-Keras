{
  "nbformat": 4,
  "nbformat_minor": 0,
  "metadata": {
    "colab": {
      "name": "digit-recognizer.ipynb",
      "version": "0.3.2",
      "provenance": [],
      "toc_visible": true,
      "include_colab_link": true
    },
    "kernelspec": {
      "name": "python3",
      "display_name": "Python 3"
    },
    "accelerator": "GPU"
  },
  "cells": [
    {
      "cell_type": "markdown",
      "metadata": {
        "id": "view-in-github",
        "colab_type": "text"
      },
      "source": [
        "<a href=\"https://colab.research.google.com/github/armanniki/Digit-Recognizer-using-Deep-learning-CNN-with-Keras/blob/master/digit_recognizer.ipynb\" target=\"_parent\"><img src=\"https://colab.research.google.com/assets/colab-badge.svg\" alt=\"Open In Colab\"/></a>"
      ]
    },
    {
      "metadata": {
        "id": "SVG150oG0arP",
        "colab_type": "code",
        "colab": {}
      },
      "cell_type": "code",
      "source": [
        "from pydrive.auth import GoogleAuth\n",
        "from pydrive.drive import GoogleDrive\n",
        "from google.colab import auth\n",
        "from oauth2client.client import GoogleCredentials"
      ],
      "execution_count": 0,
      "outputs": []
    },
    {
      "metadata": {
        "id": "0cX6RiHX2aLN",
        "colab_type": "code",
        "colab": {}
      },
      "cell_type": "code",
      "source": [
        "auth.authenticate_user()\n",
        "gauth =GoogleAuth()\n",
        "gauth.credentials = GoogleCredentials.get_application_default()\n",
        "drive = GoogleDrive(gauth)"
      ],
      "execution_count": 0,
      "outputs": []
    },
    {
      "metadata": {
        "id": "-bbLK66m4FQY",
        "colab_type": "code",
        "colab": {}
      },
      "cell_type": "code",
      "source": [
        "train_downloaded = drive.CreateFile({'id': '14_muSweF_kyxEk2bNHTK165FtHC86-8E'})\n",
        "train_downloaded.GetContentFile('train.csv')\n",
        "test_downloaded = drive.CreateFile({'id': '1KuqK65aMiGqYC2ETL5HaEGLk0u56dwl8'})\n",
        "test_downloaded.GetContentFile('test.csv')  "
      ],
      "execution_count": 0,
      "outputs": []
    },
    {
      "metadata": {
        "_uuid": "ff4425d2ccae0f5db9ed9fa609655f7531f06c78",
        "id": "M7PPbNbhw0zo",
        "colab_type": "text"
      },
      "cell_type": "markdown",
      "source": [
        "# Loading the Data\n",
        "### Frist load the data using pandas Lib in two train and test sets.\n"
      ]
    },
    {
      "metadata": {
        "_cell_guid": "79c7e3d0-c299-4dcb-8224-4455121ee9b0",
        "_uuid": "d629ff2d2480ee46fbb7e2d37f6b5fab8052498a",
        "trusted": true,
        "id": "fx_KHtHww0zr",
        "colab_type": "code",
        "colab": {}
      },
      "cell_type": "code",
      "source": [
        "# Loading Data\n",
        "import pandas as pd\n",
        "import matplotlib.pyplot as plt\n",
        "import matplotlib.image as mpimg\n",
        "import seaborn as sns\n",
        "%matplotlib inline\n",
        "\n",
        "train = pd.read_csv(\"train.csv\")\n",
        "test = pd.read_csv(\"test.csv\")\n",
        "\n",
        "y_train = train[\"label\"]\n",
        "x_train = train.drop(labels = [\"label\"], axis=1)\n",
        "\n",
        "del train\n",
        "\n",
        "#g = sns.countplot(y_train)\n",
        "#y_train.value_counts()"
      ],
      "execution_count": 0,
      "outputs": []
    },
    {
      "metadata": {
        "_uuid": "035dab0f66c0767f5b7e76b3954bdf3de6774327",
        "id": "m4VOb1JBw0z4",
        "colab_type": "text"
      },
      "cell_type": "markdown",
      "source": [
        "# Normalization\n",
        "### to change the grayscale range from [0..255] to [0..1]"
      ]
    },
    {
      "metadata": {
        "trusted": true,
        "_uuid": "b33bb87da64bff80abf5b597a336caaf13cb10ec",
        "id": "WCOBW6m_w0z8",
        "colab_type": "code",
        "colab": {}
      },
      "cell_type": "code",
      "source": [
        "# Normalizing Data\n",
        "x_train = x_train / 255.0\n",
        "test = test / 255.0\n"
      ],
      "execution_count": 0,
      "outputs": []
    },
    {
      "metadata": {
        "_uuid": "a4d0b919ef5ea2572faf6fe4ddbbbe59484cd417",
        "id": "X42vW30aw00H",
        "colab_type": "text"
      },
      "cell_type": "markdown",
      "source": [
        "# Reshape\n",
        "### The images are in vector form with 784 elements, now we reshapeinto 28x28x1 matrices."
      ]
    },
    {
      "metadata": {
        "trusted": true,
        "_uuid": "50589d88535109450ffd4226e4e5f43cca56bef4",
        "id": "q4HnIb4xw00L",
        "colab_type": "code",
        "colab": {}
      },
      "cell_type": "code",
      "source": [
        "#Reshaping images in 3 dimensions\n",
        "x_train = x_train.values.reshape(-1,28,28,1)\n",
        "test = test.values.reshape(-1,28,28,1)\n"
      ],
      "execution_count": 0,
      "outputs": []
    },
    {
      "metadata": {
        "_uuid": "1df0d64a8ff171f3729299202cbaa06ff7953c8a",
        "id": "Zge2HWbQw00T",
        "colab_type": "text"
      },
      "cell_type": "markdown",
      "source": [
        "# Label encoding\n",
        "### We have 10 labels, 0,1,...,9. They should be encode in one hot vector, for exp : 7-->> [0,0,0,0,0,0,0,1,0,0]"
      ]
    },
    {
      "metadata": {
        "trusted": true,
        "_uuid": "53d106a54ed7aaaebde7d244ce783aa3190f56e3",
        "id": "uLNLRiD0w00V",
        "colab_type": "code",
        "colab": {
          "base_uri": "https://localhost:8080/",
          "height": 35
        },
        "outputId": "1903178c-f007-40d7-c31f-7feb5ba1f834"
      },
      "cell_type": "code",
      "source": [
        "# Encode labels to one hot vectors (ex : 2 -> [0,0,1,0,0,0,0,0,0,0])\n",
        "from keras.utils.np_utils import to_categorical\n",
        "\n",
        "y_train = to_categorical(y_train, num_classes = 10)\n"
      ],
      "execution_count": 17,
      "outputs": [
        {
          "output_type": "stream",
          "text": [
            "Using TensorFlow backend.\n"
          ],
          "name": "stderr"
        }
      ]
    },
    {
      "metadata": {
        "_uuid": "5ce9ddf0c9a6b674491a001bdd912375dcedc66a",
        "id": "H4VEdkmHw00l",
        "colab_type": "text"
      },
      "cell_type": "markdown",
      "source": [
        "# Spliting data\n",
        "### in order to have a better training and more training accuracy, spliting data to train and validation set is good idea. "
      ]
    },
    {
      "metadata": {
        "trusted": true,
        "_uuid": "a296fe101e6e09a7e56c631b18b4be0b6b114dcb",
        "id": "CgpoG0-Fw00t",
        "colab_type": "code",
        "colab": {}
      },
      "cell_type": "code",
      "source": [
        "#Spliting data into train and validation set\n",
        "from sklearn.model_selection import train_test_split\n",
        "\n",
        "random_seed = 2\n",
        "x_train, x_val, y_train, y_val = train_test_split(x_train, y_train, test_size = 0.1, random_state=random_seed)\n",
        "#g = plt.imshow(x_train[5][:,:,0])"
      ],
      "execution_count": 0,
      "outputs": []
    },
    {
      "metadata": {
        "_uuid": "67106fd7733c56506e8fd278a75821ab6f107fcc",
        "id": "jFj56jAUw003",
        "colab_type": "text"
      },
      "cell_type": "markdown",
      "source": [
        "# Train and define CNN model\n",
        "### CNN layers and kernels and those activation functions and other stuffs could be a very long story, I think, easy google \"CNN model in keras\" or some thing else :) "
      ]
    },
    {
      "metadata": {
        "trusted": true,
        "_uuid": "07df59af2bff54d30fcb97bf351e1fadf9ad61e2",
        "id": "DRvqb5Saw007",
        "colab_type": "code",
        "colab": {
          "base_uri": "https://localhost:8080/",
          "height": 144
        },
        "outputId": "0c6ffe8d-f456-4af1-faa5-19c0104fadc7"
      },
      "cell_type": "code",
      "source": [
        "#CNN Model\n",
        "from keras.models import Sequential\n",
        "from keras.layers import Dense, Dropout, Flatten, Conv2D, MaxPool2D\n",
        "from keras.optimizers import RMSprop\n",
        "from keras.layers.normalization import BatchNormalization\n",
        "\n",
        "\n",
        "model = Sequential()\n",
        "\n",
        "model.add(Conv2D(32,kernel_size=3,activation='relu',input_shape=(28,28,1)))\n",
        "model.add(BatchNormalization())\n",
        "model.add(Conv2D(32,kernel_size=3,activation='relu'))\n",
        "model.add(BatchNormalization())\n",
        "model.add(Conv2D(32,kernel_size=5,strides=2,padding='same',activation='relu'))\n",
        "model.add(BatchNormalization())\n",
        "model.add(Dropout(0.4))\n",
        "\n",
        "model.add(Conv2D(64,kernel_size=3,activation='relu'))\n",
        "model.add(BatchNormalization())\n",
        "model.add(Conv2D(64,kernel_size=3,activation='relu'))\n",
        "model.add(BatchNormalization())\n",
        "model.add(Conv2D(64,kernel_size=5,strides=2,padding='same',activation='relu'))\n",
        "model.add(BatchNormalization())\n",
        "model.add(Dropout(0.4))\n",
        "\n",
        "model.add(Flatten())\n",
        "model.add(Dense(128, activation='relu'))\n",
        "model.add(BatchNormalization())\n",
        "model.add(Dropout(0.4))\n",
        "model.add(Dense(10, activation='softmax'))\n",
        "\n",
        "model.compile(optimizer=\"adam\", loss=\"categorical_crossentropy\", metrics=[\"accuracy\"])"
      ],
      "execution_count": 19,
      "outputs": [
        {
          "output_type": "stream",
          "text": [
            "WARNING:tensorflow:From /usr/local/lib/python3.6/dist-packages/tensorflow/python/framework/op_def_library.py:263: colocate_with (from tensorflow.python.framework.ops) is deprecated and will be removed in a future version.\n",
            "Instructions for updating:\n",
            "Colocations handled automatically by placer.\n",
            "WARNING:tensorflow:From /usr/local/lib/python3.6/dist-packages/keras/backend/tensorflow_backend.py:3445: calling dropout (from tensorflow.python.ops.nn_ops) with keep_prob is deprecated and will be removed in a future version.\n",
            "Instructions for updating:\n",
            "Please use `rate` instead of `keep_prob`. Rate should be set to `rate = 1 - keep_prob`.\n"
          ],
          "name": "stdout"
        }
      ]
    },
    {
      "metadata": {
        "trusted": true,
        "_uuid": "bf2f2915f79ca658b8c28f247ef08d7d42def3f2",
        "id": "oatdzu9Yw01F",
        "colab_type": "code",
        "colab": {}
      },
      "cell_type": "code",
      "source": [
        "epochs = 60 # but actually it should be more than 1\n",
        "batch_size = 86\n"
      ],
      "execution_count": 0,
      "outputs": []
    },
    {
      "metadata": {
        "_uuid": "9af6e2f8e5779fb99de50a25015323ec9ad2b0c5",
        "id": "G0flzoMuw01V",
        "colab_type": "text"
      },
      "cell_type": "markdown",
      "source": [
        "# Data augmentation\n",
        "### With these method we make more training images from our train data set using some image preprocessing techniks."
      ]
    },
    {
      "metadata": {
        "trusted": true,
        "_uuid": "709a25f5675e77dbdf8e61544f5e8f68c5d728e5",
        "id": "SCVOZ6yhw01X",
        "colab_type": "code",
        "colab": {}
      },
      "cell_type": "code",
      "source": [
        "#Data augmentation\n",
        "from keras.preprocessing.image import ImageDataGenerator\n",
        "\n",
        "datageneration = ImageDataGenerator(\n",
        "        featurewise_center=False,  \n",
        "        samplewise_center=False,  \n",
        "        featurewise_std_normalization=False,  \n",
        "        samplewise_std_normalization=False, \n",
        "        zca_whitening=False,  \n",
        "        rotation_range=10, \n",
        "        zoom_range = 0.1,\n",
        "        width_shift_range=0.1, \n",
        "        height_shift_range=0.1,  \n",
        "        horizontal_flip=False,  \n",
        "        vertical_flip=False)  \n",
        "\n",
        "datageneration.fit(x_train)\n"
      ],
      "execution_count": 0,
      "outputs": []
    },
    {
      "metadata": {
        "trusted": true,
        "_uuid": "945c0bde45545ce5290a372bcbc9ffdac68ded10",
        "id": "Dpz_hzRsw01e",
        "colab_type": "code",
        "colab": {
          "base_uri": "https://localhost:8080/",
          "height": 2161
        },
        "outputId": "a0398c48-0bce-4a2e-b134-f931de52cd47"
      },
      "cell_type": "code",
      "source": [
        "#fitting the model\n",
        "history = model.fit_generator(datageneration.flow(x_train,y_train, batch_size=batch_size),\n",
        "                              epochs = epochs, validation_data = (x_val,y_val),\n",
        "                              verbose = 2, steps_per_epoch=x_train.shape[0] // batch_size)\n"
      ],
      "execution_count": 25,
      "outputs": [
        {
          "output_type": "stream",
          "text": [
            "Epoch 1/60\n",
            " - 18s - loss: 0.1422 - acc: 0.9574 - val_loss: 0.1114 - val_acc: 0.9648\n",
            "Epoch 2/60\n",
            " - 18s - loss: 0.1078 - acc: 0.9682 - val_loss: 0.0416 - val_acc: 0.9874\n",
            "Epoch 3/60\n",
            " - 18s - loss: 0.0878 - acc: 0.9745 - val_loss: 0.0389 - val_acc: 0.9890\n",
            "Epoch 4/60\n",
            " - 18s - loss: 0.0801 - acc: 0.9761 - val_loss: 0.0337 - val_acc: 0.9902\n",
            "Epoch 5/60\n",
            " - 18s - loss: 0.0672 - acc: 0.9797 - val_loss: 0.0295 - val_acc: 0.9926\n",
            "Epoch 6/60\n",
            " - 18s - loss: 0.0645 - acc: 0.9803 - val_loss: 0.0246 - val_acc: 0.9919\n",
            "Epoch 7/60\n",
            " - 18s - loss: 0.0588 - acc: 0.9825 - val_loss: 0.0353 - val_acc: 0.9893\n",
            "Epoch 8/60\n",
            " - 18s - loss: 0.0581 - acc: 0.9827 - val_loss: 0.0253 - val_acc: 0.9917\n",
            "Epoch 9/60\n",
            " - 18s - loss: 0.0510 - acc: 0.9847 - val_loss: 0.0514 - val_acc: 0.9879\n",
            "Epoch 10/60\n",
            " - 18s - loss: 0.0517 - acc: 0.9847 - val_loss: 0.0326 - val_acc: 0.9895\n",
            "Epoch 11/60\n",
            " - 18s - loss: 0.0521 - acc: 0.9844 - val_loss: 0.0269 - val_acc: 0.9917\n",
            "Epoch 12/60\n",
            " - 18s - loss: 0.0431 - acc: 0.9867 - val_loss: 0.0281 - val_acc: 0.9917\n",
            "Epoch 13/60\n",
            " - 18s - loss: 0.0445 - acc: 0.9874 - val_loss: 0.0205 - val_acc: 0.9926\n",
            "Epoch 14/60\n",
            " - 18s - loss: 0.0398 - acc: 0.9887 - val_loss: 0.0280 - val_acc: 0.9924\n",
            "Epoch 15/60\n",
            " - 18s - loss: 0.0415 - acc: 0.9876 - val_loss: 0.0224 - val_acc: 0.9926\n",
            "Epoch 16/60\n",
            " - 18s - loss: 0.0391 - acc: 0.9881 - val_loss: 0.0142 - val_acc: 0.9964\n",
            "Epoch 17/60\n",
            " - 18s - loss: 0.0387 - acc: 0.9884 - val_loss: 0.0184 - val_acc: 0.9945\n",
            "Epoch 18/60\n",
            " - 18s - loss: 0.0376 - acc: 0.9888 - val_loss: 0.0177 - val_acc: 0.9938\n",
            "Epoch 19/60\n",
            " - 18s - loss: 0.0338 - acc: 0.9899 - val_loss: 0.0229 - val_acc: 0.9929\n",
            "Epoch 20/60\n",
            " - 18s - loss: 0.0332 - acc: 0.9899 - val_loss: 0.0275 - val_acc: 0.9917\n",
            "Epoch 21/60\n",
            " - 18s - loss: 0.0337 - acc: 0.9896 - val_loss: 0.0188 - val_acc: 0.9938\n",
            "Epoch 22/60\n",
            " - 18s - loss: 0.0310 - acc: 0.9907 - val_loss: 0.0194 - val_acc: 0.9943\n",
            "Epoch 23/60\n",
            " - 18s - loss: 0.0311 - acc: 0.9900 - val_loss: 0.0239 - val_acc: 0.9926\n",
            "Epoch 24/60\n",
            " - 18s - loss: 0.0295 - acc: 0.9909 - val_loss: 0.0141 - val_acc: 0.9957\n",
            "Epoch 25/60\n",
            " - 18s - loss: 0.0302 - acc: 0.9909 - val_loss: 0.0270 - val_acc: 0.9940\n",
            "Epoch 26/60\n",
            " - 18s - loss: 0.0289 - acc: 0.9914 - val_loss: 0.0220 - val_acc: 0.9933\n",
            "Epoch 27/60\n",
            " - 18s - loss: 0.0321 - acc: 0.9912 - val_loss: 0.0205 - val_acc: 0.9945\n",
            "Epoch 28/60\n",
            " - 18s - loss: 0.0276 - acc: 0.9913 - val_loss: 0.0210 - val_acc: 0.9952\n",
            "Epoch 29/60\n",
            " - 18s - loss: 0.0255 - acc: 0.9926 - val_loss: 0.0157 - val_acc: 0.9950\n",
            "Epoch 30/60\n",
            " - 18s - loss: 0.0262 - acc: 0.9926 - val_loss: 0.0209 - val_acc: 0.9933\n",
            "Epoch 31/60\n",
            " - 18s - loss: 0.0268 - acc: 0.9922 - val_loss: 0.0167 - val_acc: 0.9950\n",
            "Epoch 32/60\n",
            " - 18s - loss: 0.0252 - acc: 0.9922 - val_loss: 0.0155 - val_acc: 0.9952\n",
            "Epoch 33/60\n",
            " - 18s - loss: 0.0248 - acc: 0.9922 - val_loss: 0.0154 - val_acc: 0.9955\n",
            "Epoch 34/60\n",
            " - 18s - loss: 0.0261 - acc: 0.9926 - val_loss: 0.0149 - val_acc: 0.9952\n",
            "Epoch 35/60\n",
            " - 18s - loss: 0.0238 - acc: 0.9926 - val_loss: 0.0202 - val_acc: 0.9945\n",
            "Epoch 36/60\n",
            " - 18s - loss: 0.0239 - acc: 0.9927 - val_loss: 0.0126 - val_acc: 0.9957\n",
            "Epoch 37/60\n",
            " - 18s - loss: 0.0241 - acc: 0.9930 - val_loss: 0.0154 - val_acc: 0.9960\n",
            "Epoch 38/60\n",
            " - 18s - loss: 0.0230 - acc: 0.9928 - val_loss: 0.0168 - val_acc: 0.9948\n",
            "Epoch 39/60\n",
            " - 18s - loss: 0.0205 - acc: 0.9938 - val_loss: 0.0225 - val_acc: 0.9933\n",
            "Epoch 40/60\n",
            " - 18s - loss: 0.0220 - acc: 0.9928 - val_loss: 0.0104 - val_acc: 0.9964\n",
            "Epoch 41/60\n",
            " - 18s - loss: 0.0208 - acc: 0.9938 - val_loss: 0.0153 - val_acc: 0.9955\n",
            "Epoch 42/60\n",
            " - 18s - loss: 0.0210 - acc: 0.9936 - val_loss: 0.0171 - val_acc: 0.9955\n",
            "Epoch 43/60\n",
            " - 18s - loss: 0.0200 - acc: 0.9937 - val_loss: 0.0172 - val_acc: 0.9952\n",
            "Epoch 44/60\n",
            " - 18s - loss: 0.0200 - acc: 0.9940 - val_loss: 0.0158 - val_acc: 0.9960\n",
            "Epoch 45/60\n",
            " - 18s - loss: 0.0195 - acc: 0.9945 - val_loss: 0.0175 - val_acc: 0.9964\n",
            "Epoch 46/60\n",
            " - 18s - loss: 0.0177 - acc: 0.9942 - val_loss: 0.0162 - val_acc: 0.9962\n",
            "Epoch 47/60\n",
            " - 18s - loss: 0.0212 - acc: 0.9939 - val_loss: 0.0193 - val_acc: 0.9945\n",
            "Epoch 48/60\n",
            " - 18s - loss: 0.0189 - acc: 0.9941 - val_loss: 0.0158 - val_acc: 0.9957\n",
            "Epoch 49/60\n",
            " - 18s - loss: 0.0200 - acc: 0.9936 - val_loss: 0.0158 - val_acc: 0.9952\n",
            "Epoch 50/60\n",
            " - 18s - loss: 0.0174 - acc: 0.9946 - val_loss: 0.0172 - val_acc: 0.9940\n",
            "Epoch 51/60\n",
            " - 18s - loss: 0.0197 - acc: 0.9945 - val_loss: 0.0177 - val_acc: 0.9957\n",
            "Epoch 52/60\n",
            " - 18s - loss: 0.0186 - acc: 0.9942 - val_loss: 0.0146 - val_acc: 0.9957\n",
            "Epoch 53/60\n",
            " - 18s - loss: 0.0178 - acc: 0.9949 - val_loss: 0.0145 - val_acc: 0.9957\n",
            "Epoch 54/60\n",
            " - 18s - loss: 0.0170 - acc: 0.9949 - val_loss: 0.0188 - val_acc: 0.9945\n",
            "Epoch 55/60\n",
            " - 18s - loss: 0.0173 - acc: 0.9948 - val_loss: 0.0167 - val_acc: 0.9957\n",
            "Epoch 56/60\n",
            " - 18s - loss: 0.0180 - acc: 0.9943 - val_loss: 0.0253 - val_acc: 0.9936\n",
            "Epoch 57/60\n",
            " - 18s - loss: 0.0176 - acc: 0.9945 - val_loss: 0.0148 - val_acc: 0.9952\n",
            "Epoch 58/60\n",
            " - 18s - loss: 0.0163 - acc: 0.9949 - val_loss: 0.0141 - val_acc: 0.9960\n",
            "Epoch 59/60\n",
            " - 18s - loss: 0.0137 - acc: 0.9954 - val_loss: 0.0213 - val_acc: 0.9940\n",
            "Epoch 60/60\n",
            " - 18s - loss: 0.0176 - acc: 0.9948 - val_loss: 0.0162 - val_acc: 0.9962\n"
          ],
          "name": "stdout"
        }
      ]
    },
    {
      "metadata": {
        "_uuid": "3ee1b29e54ea7756872c5a8d31d7087b6ea6b123",
        "id": "fXXQubZkw01p",
        "colab_type": "text"
      },
      "cell_type": "markdown",
      "source": [
        "# Confusion Matrix\n",
        "### a visual represetation of model drawbacks."
      ]
    },
    {
      "metadata": {
        "trusted": true,
        "_uuid": "2137fd924cfef2a9886af47a3719ed6a7b5352ce",
        "id": "cfgAaj_Vw01s",
        "colab_type": "code",
        "colab": {
          "base_uri": "https://localhost:8080/",
          "height": 311
        },
        "outputId": "23b70128-ade9-4b8d-9bd4-256450edaa58"
      },
      "cell_type": "code",
      "source": [
        "# Confusion matrix \n",
        "import numpy as np\n",
        "from sklearn.metrics import confusion_matrix\n",
        "import itertools\n",
        "\n",
        "def plot_confusion_matrix(cm, classes,\n",
        "                          normalize=False,\n",
        "                          title='Confusion matrix',\n",
        "                          cmap=plt.cm.Blues):\n",
        "    \"\"\"\n",
        "    This function prints and plots the confusion matrix.\n",
        "    Normalization can be applied by setting `normalize=True`.\n",
        "    \"\"\"\n",
        "    plt.imshow(cm, interpolation='nearest', cmap=cmap)\n",
        "    plt.title(title)\n",
        "    plt.colorbar()\n",
        "    tick_marks = np.arange(len(classes))\n",
        "    plt.xticks(tick_marks, classes, rotation=45)\n",
        "    plt.yticks(tick_marks, classes)\n",
        "\n",
        "    if normalize:\n",
        "        cm = cm.astype('float') / cm.sum(axis=1)[:, np.newaxis]\n",
        "\n",
        "    thresh = cm.max() / 2.\n",
        "    for i, j in itertools.product(range(cm.shape[0]), range(cm.shape[1])):\n",
        "        plt.text(j, i, cm[i, j],\n",
        "                 horizontalalignment=\"center\",\n",
        "                 color=\"white\" if cm[i, j] > thresh else \"black\")\n",
        "\n",
        "    plt.tight_layout()\n",
        "    plt.ylabel('True label')\n",
        "    plt.xlabel('Predicted label')\n",
        "\n",
        "# Predict the values from the validation dataset\n",
        "y_pred = model.predict(x_val)\n",
        "# Convert predictions classes to one hot vectors \n",
        "y_pred_classes = np.argmax(y_pred,axis = 1) \n",
        "# Convert validation observations to one hot vectors\n",
        "y_true = np.argmax(y_val,axis = 1) \n",
        "# compute the confusion matrix\n",
        "confusion_mtx = confusion_matrix(y_true, y_pred_classes) \n",
        "# plot the confusion matrix\n",
        "plot_confusion_matrix(confusion_mtx, classes = range(10)) "
      ],
      "execution_count": 26,
      "outputs": [
        {
          "output_type": "display_data",
          "data": {
            "image/png": "[encoded data removed]",
            "text/plain": [
              "<Figure size 432x288 with 2 Axes>"
            ]
          },
          "metadata": {
            "tags": []
          }
        }
      ]
    },
    {
      "metadata": {
        "_uuid": "6cea963f5fc5c80d410eb6eb79393fcf6a771a59",
        "id": "kfeAkqMlw013",
        "colab_type": "text"
      },
      "cell_type": "markdown",
      "source": [
        "# Predicting the test set"
      ]
    },
    {
      "metadata": {
        "trusted": true,
        "_uuid": "a3596106c46ec6f20f1c659ad0697d4f5fe9c4f0",
        "id": "Ut2AkOQdw018",
        "colab_type": "code",
        "colab": {}
      },
      "cell_type": "code",
      "source": [
        "# predict results\n",
        "results = model.predict(test)\n",
        "\n",
        "# select the indix with the maximum probability\n",
        "results = np.argmax(results,axis = 1)\n",
        "\n",
        "results = pd.Series(results,name=\"Label\")\n"
      ],
      "execution_count": 0,
      "outputs": []
    },
    {
      "metadata": {
        "trusted": true,
        "_uuid": "32147d08e9302f2b0cf3a0cd24b7c23a2e0ae90a",
        "id": "LtTS8RGtw02D",
        "colab_type": "code",
        "colab": {}
      },
      "cell_type": "code",
      "source": [
        "submission = pd.concat([pd.Series(range(1,28001),name = \"ImageId\"),results],axis = 1)\n",
        "\n",
        "submission.to_csv(\"cnn_mnist_datagen.csv\",index=False)"
      ],
      "execution_count": 0,
      "outputs": []
    },
    {
      "metadata": {
        "trusted": true,
        "_uuid": "8aa900c2bf4a4a9d26df99d8eb027810662a7f08",
        "id": "z9zHKxHuw02J",
        "colab_type": "text"
      },
      "cell_type": "markdown",
      "source": [
        "# **Brief but Useful ;)**"
      ]
    },
    {
      "metadata": {
        "id": "N6sEdm3y-mPL",
        "colab_type": "code",
        "colab": {}
      },
      "cell_type": "code",
      "source": [
        "import pickle\n",
        "filename = 'dig_rec_model.sav'\n",
        "pickle.dump(model, open(filename, 'wb'))\n"
      ],
      "execution_count": 0,
      "outputs": []
    }
  ]
}